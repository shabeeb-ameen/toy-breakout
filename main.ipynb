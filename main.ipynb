{
 "cells": [
  {
   "cell_type": "code",
   "execution_count": null,
   "metadata": {},
   "outputs": [],
   "source": [
    "from Polygon import Vertex, Polygon, initialize_a_polygon\n",
    "from FIREminimization import calculateForceVelocityProjections, FIREminimize\n",
    "import numpy as np\n",
    "import random\n",
    "import matplotlib.pyplot as plt\n",
    "from matplotlib.patches import FancyArrowPatch\n",
    "\n",
    "def plot_configuration(polygon, filename = \"initial.png\"):\n",
    "    fig, ax = plt.subplots(figsize=(10,10))\n",
    "    for i in range(len(polygon.vertices_)):\n",
    "        # ax.plot(P.vertices_[i].position_,P.vertices_[i-1].position_,color='black')\n",
    "        ax.plot(polygon.vertices_[i].position_[0],polygon.vertices_[i].position_[1],'o',color='black')\n",
    "        # Only draw the force if it is not if it is not too small\n",
    "        if np.linalg.norm(polygon.vertices_[i].force_) > 1e-15:\n",
    "            ForceArrow = FancyArrowPatch(posA = polygon.vertices_[i].position_,\n",
    "                                    posB = np.add(polygon.vertices_[i].position_,polygon.vertices_[i].force_),\n",
    "                                    arrowstyle='->,head_width=5,head_length=10',\n",
    "                                    color='blue', linewidth=2)\n",
    "            ax.add_patch(ForceArrow)\n",
    "        EdgeArrow = FancyArrowPatch(posA = polygon.vertices_[i].position_,\n",
    "                                posB = polygon.vertices_[i-1].position_,\n",
    "                                arrowstyle='-',\n",
    "                                color='black', linewidth=2)\n",
    "\n",
    "        ax.add_patch(EdgeArrow)\n",
    "        \n",
    "\n",
    "\n",
    "        # ax.add_patch(arrow)\n",
    "    plt.xlim(-5, 5)\n",
    "    plt.ylim(-5, 5)\n",
    "    plt.savefig(filename)\n",
    "    plt.close()\n",
    "\n",
    "    return"
   ]
  },
  {
   "cell_type": "code",
   "execution_count": null,
   "metadata": {},
   "outputs": [],
   "source": [
    "P = initialize_a_polygon(P0 = 3.78)\n",
    "\n",
    "\n",
    "print(\"Initial area: \", P.area_)\n",
    "print(\"Initial perimeter: \", P.perimeter_)\n",
    "print(\"initial stress:\\n\", P.stress_)\n",
    "plot_configuration(P, \"initial.png\")\n",
    "FIREminimize(P)\n",
    "\n",
    "P.compute_forces()\n",
    "P.compute_stress()\n",
    "plot_configuration(P, \"final.png\")\n",
    "print(\"Minimized perimeter \",P.perimeter_)\n",
    "print(\"Minimized area \",P.area_)\n",
    "print(\"Minimized stress:\\n\",P.stress_)\n",
    "print(\"Forces after minimization:\")\n",
    "for i in range(len(P.vertices_)):\n",
    "    print(P.vertices_[i].force_)\n"
   ]
  },
  {
   "cell_type": "code",
   "execution_count": null,
   "metadata": {},
   "outputs": [],
   "source": []
  }
 ],
 "metadata": {
  "kernelspec": {
   "display_name": "Python 3",
   "language": "python",
   "name": "python3"
  },
  "language_info": {
   "codemirror_mode": {
    "name": "ipython",
    "version": 3
   },
   "file_extension": ".py",
   "mimetype": "text/x-python",
   "name": "python",
   "nbconvert_exporter": "python",
   "pygments_lexer": "ipython3",
   "version": "3.10.12"
  }
 },
 "nbformat": 4,
 "nbformat_minor": 2
}
